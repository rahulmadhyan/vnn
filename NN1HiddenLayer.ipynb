{
 "cells": [
  {
   "cell_type": "code",
   "execution_count": 1,
   "metadata": {},
   "outputs": [],
   "source": [
    "import numpy as np\n",
    "import cv2\n",
    "import os\n",
    "import matplotlib.pyplot as plt\n",
    "from PIL import Image"
   ]
  },
  {
   "cell_type": "code",
   "execution_count": 2,
   "metadata": {},
   "outputs": [],
   "source": [
    "### PRE_PROCESSING ###\n",
    "\n",
    "def load_images_and_create_label(folder, new_pixels):\n",
    "    \n",
    "    \"\"\"\n",
    "    Loads images from \n",
    "    Resize image to 'new_pixels'\n",
    "    Returns array of images and array of labels\n",
    "    \"\"\"\n",
    "    \n",
    "    images = []\n",
    "    labels = []\n",
    "    for filename in os.listdir(folder):\n",
    "        img = cv2.imread(os.path.join(folder,filename))\n",
    "        if img is not None:\n",
    "            img = cv2.resize(img, (new_pixels, new_pixels))\n",
    "            images.append(img)\n",
    "            if filename.find(\"cat\") == -1:\n",
    "                # dog \n",
    "                labels.append(1)\n",
    "            else:\n",
    "                # cat\n",
    "                labels.append(0)\n",
    "    return images, labels"
   ]
  },
  {
   "cell_type": "code",
   "execution_count": 3,
   "metadata": {},
   "outputs": [],
   "source": [
    "def layer_sizes(X, Y):\n",
    "    \n",
    "    \"\"\"\n",
    "    Defines sizes of input, hidden and output layers\n",
    "    Returns:\n",
    "    n_x -- the size of the input layer\n",
    "    n_h -- the size of the hidden layer\n",
    "    n_y -- the size of the output layer\n",
    "    \"\"\"\n",
    "    \n",
    "    n_X = X.shape[0]\n",
    "    n_Y = Y.shape[0]\n",
    "    n_H = 4\n",
    "    \n",
    "    return (n_X, n_H, n_Y)"
   ]
  },
  {
   "cell_type": "code",
   "execution_count": 4,
   "metadata": {},
   "outputs": [],
   "source": [
    "def init_parameters(n_X, n_H, n_Y):\n",
    "    \n",
    "    \"\"\"\n",
    "    Initializes parameters with required shapes\n",
    "    Returns:\n",
    "    param - Python dictionary containing parameters:\n",
    "    W1, b1, W2, b2\n",
    "    \"\"\"\n",
    "    \n",
    "    W1 = np.random.randn(n_H, n_X) * 0.01\n",
    "    b1 = np.zeros((n_H, 1))\n",
    "    W2 = np.random.randn(n_Y, n_H) * 0.01\n",
    "    b2 = np.zeros((n_Y, 1))\n",
    "    \n",
    "    parameters = {\"W1\": W1,\n",
    "                  \"b1\": b1,\n",
    "                  \"W2\": W2,\n",
    "                  \"b2\": b2}\n",
    "    \n",
    "    return parameters"
   ]
  },
  {
   "cell_type": "code",
   "execution_count": 5,
   "metadata": {},
   "outputs": [],
   "source": [
    "def sigmoid(z):\n",
    "    \n",
    "    \"\"\"\n",
    "    Sigmoid non-linearity\n",
    "    \"\"\"\n",
    "    return 1 / (1 + np.exp(-z))"
   ]
  },
  {
   "cell_type": "code",
   "execution_count": 6,
   "metadata": {},
   "outputs": [],
   "source": [
    "def forward_propagation(X, parameters):\n",
    "    \n",
    "    \"\"\"\n",
    "    Performs forward propogation.\n",
    "    Returns:\n",
    "    cache - Python dictionary conataining values:\n",
    "    Z1, A1, Z2, A2\n",
    "    \"\"\"\n",
    "    \n",
    "    W1 = parameters[\"W1\"]\n",
    "    b1 = parameters[\"b1\"]\n",
    "    W2 = parameters[\"W2\"]\n",
    "    b2 = parameters[\"b2\"]\n",
    "\n",
    "    Z1 = np.dot(W1, X) + b1\n",
    "    A1 = np.tanh(Z1)\n",
    "    Z2 = np.dot(W2, A1) + b2\n",
    "    A2 = sigmoid(Z2)\n",
    "    \n",
    "    cache = {\"Z1\": Z1,\n",
    "             \"A1\": A1,\n",
    "             \"Z2\": Z2,\n",
    "             \"A2\": A2}\n",
    "    \n",
    "    return A2, cache"
   ]
  },
  {
   "cell_type": "code",
   "execution_count": 7,
   "metadata": {},
   "outputs": [],
   "source": [
    "def compute_cost(A2, Y):\n",
    "    \n",
    "    \"\"\"\n",
    "    Computes cross-entropy cost.\n",
    "    \"\"\"\n",
    "    \n",
    "    # number of examples\n",
    "    m = Y.shape[1]\n",
    "\n",
    "    logprobs = np.multiply(np.log(A2), Y) + np.multiply((1 - Y), np.log(1 - A2))\n",
    "    cost = - np.sum(logprobs) / m\n",
    "    \n",
    "    # makes sure cost is the dimension we expect. E.g., turns [[17]] into 17 \n",
    "    cost = np.squeeze(cost)\n",
    "\n",
    "    return cost"
   ]
  },
  {
   "cell_type": "code",
   "execution_count": 8,
   "metadata": {},
   "outputs": [],
   "source": [
    "def backward_propagation(X, Y, parameters, cache):\n",
    "    \n",
    "    \"\"\"\n",
    "    Returns:\n",
    "    grads -- python dictionary containing your gradients with respect to different parameters\n",
    "    \"\"\"\n",
    "    \n",
    "    # number of examples\n",
    "    m = X.shape[1]\n",
    "    \n",
    "    W1 = parameters[\"W1\"]\n",
    "    W2 = parameters[\"W2\"]\n",
    "    \n",
    "    A1 = cache[\"A1\"]\n",
    "    A2 = cache[\"A2\"]\n",
    "    \n",
    "    dZ2 = A2 - Y\n",
    "    dW2 = (1 / m) * np.dot(dZ2, A1.T)\n",
    "    db2 = (1 / m) * np.sum(dZ2, axis=1, keepdims=True)\n",
    "    dZ1 = np.multiply(np.dot(W2.T, dZ2), 1 - np.power(A1, 2))\n",
    "    dW1 = (1 / m) * np.dot(dZ1, X.T)\n",
    "    db1 = (1 / m) * np.sum(dZ1, axis=1, keepdims=True)\n",
    "\n",
    "    grads = {\"dW1\": dW1,\n",
    "             \"db1\": db1,\n",
    "             \"dW2\": dW2,\n",
    "             \"db2\": db2}\n",
    "    \n",
    "    return grads"
   ]
  },
  {
   "cell_type": "code",
   "execution_count": 9,
   "metadata": {},
   "outputs": [],
   "source": [
    "def update_parameters(parameters, grads, learning_rate):\n",
    "    \n",
    "    \"\"\"\n",
    "    Updates parameters using the gradient descent update \n",
    "    \n",
    "    Returns:\n",
    "    parameters -- python dictionary containing your updated parameters \n",
    "    \"\"\"\n",
    "    \n",
    "    W1 = parameters[\"W1\"]\n",
    "    b1 = parameters[\"b1\"]\n",
    "    W2 = parameters[\"W2\"]\n",
    "    b2 = parameters[\"b2\"]\n",
    "    \n",
    "    dW1 = grads[\"dW1\"]\n",
    "    db1 = grads[\"db1\"]\n",
    "    dW2 = grads[\"dW2\"]\n",
    "    db2 = grads[\"db2\"]\n",
    "    \n",
    "    W1 = W1 - learning_rate * dW1\n",
    "    b1 = b1 - learning_rate * db1\n",
    "    W2 = W2 - learning_rate * dW2\n",
    "    b2 = b2 - learning_rate * db2\n",
    "    \n",
    "    parameters = {\"W1\": W1,\n",
    "                  \"b1\": b1,\n",
    "                  \"W2\": W2,\n",
    "                  \"b2\": b2}\n",
    "    \n",
    "    return parameters"
   ]
  },
  {
   "cell_type": "code",
   "execution_count": 10,
   "metadata": {},
   "outputs": [],
   "source": [
    "def nn_model(X, Y, n_H, num_iterations = 10000, learning_rate = 1.2, print_cost = False):\n",
    "    \n",
    "    \"\"\"\n",
    "    Define the NN model.\n",
    "    Returns:\n",
    "    Updated parameters to be used for prediction\n",
    "    \"\"\"\n",
    "    \n",
    "    np.random.seed(3)\n",
    "    n_X = layer_sizes(X, Y)[0]\n",
    "    n_Y = layer_sizes(X, Y)[2]\n",
    "    \n",
    "    parameters = init_parameters(n_X, n_H, n_Y)\n",
    "    W1 = parameters[\"W1\"]\n",
    "    b1 = parameters[\"b1\"]\n",
    "    W2 = parameters[\"W2\"]\n",
    "    b2 = parameters[\"b2\"]\n",
    "    \n",
    "    for i in range(0, num_iterations):\n",
    "        A2, cache = forward_propagation(X, parameters)\n",
    "        \n",
    "        cost = compute_cost(A2, Y)\n",
    " \n",
    "        grads = backward_propagation(X, Y, parameters, cache)\n",
    " \n",
    "        parameters = update_parameters(parameters, grads, learning_rate)\n",
    "     \n",
    "        if print_cost and i % 1000 == 0:\n",
    "            print (\"Cost after iteration %i: %f\" % (i, cost))\n",
    "\n",
    "    return parameters"
   ]
  },
  {
   "cell_type": "code",
   "execution_count": 28,
   "metadata": {},
   "outputs": [],
   "source": [
    "def predict(parameters, X, labels):\n",
    "    \n",
    "    \"\"\"\n",
    "    Predicts based on learned parameters.\n",
    "    \"\"\"\n",
    "    \n",
    "    A2, cache = forward_propagation(X, parameters)\n",
    "    predictions = np.round(A2)\n",
    "    \n",
    "    print(\"Accuracy: {} %\".format(100 - np.mean(np.abs(predictions - labels)) * 100))"
   ]
  },
  {
   "cell_type": "code",
   "execution_count": 12,
   "metadata": {},
   "outputs": [],
   "source": [
    "# load train images and labels\n",
    "images_train_dataset,labels_train_dataset = load_images_and_create_label('/Users/rahulmadhyan/Documents/AI/Neural Networks/Vanilla NN/Data/train', 64)\n",
    "images_train_dataset = np.array(images_train_dataset)\n",
    "labels_train_dataset = np.array(labels_train_dataset)\n",
    "\n",
    "# load test images and labels\n",
    "images_test_dataset,labels_test_dataset = load_images_and_create_label('/Users/rahulmadhyan/Documents/AI/Neural Networks/Vanilla NN/Data/test1', 64)\n",
    "images_test_dataset = np.array(images_test_dataset)\n",
    "labels_test_dataset = np.array(labels_test_dataset)"
   ]
  },
  {
   "cell_type": "code",
   "execution_count": 33,
   "metadata": {},
   "outputs": [],
   "source": [
    "# reduce size of dataset\n",
    "size_train = 5000\n",
    "images_train = images_train_dataset[:size_train]\n",
    "labels_train = labels_train_dataset[:size_train]\n",
    "\n",
    "size_test = 5000\n",
    "images_test = images_test_dataset[:size_test]\n",
    "labels_test = labels_test_dataset[:size_test]\n",
    "\n",
    "# flatten dataset\n",
    "images_train = images_train.reshape(images_train.shape[0], -1).T\n",
    "labels_train = labels_train.reshape(labels_train.shape[0], -1).T\n",
    "images_test = images_test.reshape(images_test.shape[0], -1).T\n",
    "labels_test = labels_test.reshape(labels_test.shape[0], -1).T\n",
    "\n",
    "#standaradize the dataset\n",
    "images_train = images_train / 255\n",
    "images_test = images_test / 255"
   ]
  },
  {
   "cell_type": "code",
   "execution_count": null,
   "metadata": {},
   "outputs": [
    {
     "name": "stdout",
     "output_type": "stream",
     "text": [
      "Cost after iteration 0: 0.692935\n",
      "Cost after iteration 1000: 0.687523\n",
      "Cost after iteration 2000: 0.672080\n",
      "Cost after iteration 3000: 0.653530\n",
      "Cost after iteration 4000: 0.630028\n",
      "Cost after iteration 5000: 0.600388\n",
      "Cost after iteration 6000: 0.593852\n",
      "Cost after iteration 7000: 0.574343\n",
      "Cost after iteration 8000: 0.554644\n",
      "Cost after iteration 9000: 0.535157\n",
      "Cost after iteration 10000: 0.516339\n",
      "Cost after iteration 11000: 0.498318\n",
      "Cost after iteration 12000: 0.480699\n",
      "Cost after iteration 13000: 0.463338\n"
     ]
    }
   ],
   "source": [
    "updated_parameters = nn_model(images_train, labels_train, 8, num_iterations = 15000, learning_rate = 0.005, print_cost = True)"
   ]
  },
  {
   "cell_type": "code",
   "execution_count": 34,
   "metadata": {},
   "outputs": [
    {
     "name": "stdout",
     "output_type": "stream",
     "text": [
      "Accuracy: 72.08 %\n"
     ]
    }
   ],
   "source": [
    "# training accuracy\n",
    "predict(updated_parameters, images_train, labels_train)"
   ]
  },
  {
   "cell_type": "code",
   "execution_count": 35,
   "metadata": {},
   "outputs": [
    {
     "name": "stdout",
     "output_type": "stream",
     "text": [
      "Accuracy: 71.36 %\n"
     ]
    }
   ],
   "source": [
    "# test accuracy\n",
    "predict(updated_parameters, images_test, labels_test)"
   ]
  },
  {
   "cell_type": "code",
   "execution_count": null,
   "metadata": {},
   "outputs": [],
   "source": []
  }
 ],
 "metadata": {
  "kernelspec": {
   "display_name": "Python 3",
   "language": "python",
   "name": "python3"
  },
  "language_info": {
   "codemirror_mode": {
    "name": "ipython",
    "version": 3
   },
   "file_extension": ".py",
   "mimetype": "text/x-python",
   "name": "python",
   "nbconvert_exporter": "python",
   "pygments_lexer": "ipython3",
   "version": "3.6.4"
  }
 },
 "nbformat": 4,
 "nbformat_minor": 2
}
