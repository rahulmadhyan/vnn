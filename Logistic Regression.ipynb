{
 "cells": [
  {
   "cell_type": "code",
   "execution_count": 1,
   "metadata": {},
   "outputs": [],
   "source": [
    "import numpy as np\n",
    "import cv2\n",
    "import os\n",
    "import matplotlib.pyplot as plt\n",
    "from PIL import Image"
   ]
  },
  {
   "cell_type": "code",
   "execution_count": 2,
   "metadata": {},
   "outputs": [],
   "source": [
    "### PRE_PROCESSING ###\n",
    "\n",
    "# Loads images from \n",
    "# Resize image to 'new_pixels'\n",
    "# Returns array of images and array of labels\n",
    "def load_images_and_create_label(folder, new_pixels):\n",
    "    images = []\n",
    "    labels = []\n",
    "    for filename in os.listdir(folder):\n",
    "        img = cv2.imread(os.path.join(folder,filename))\n",
    "        if img is not None:\n",
    "            img = cv2.resize(img, (new_pixels, new_pixels))\n",
    "            images.append(img)\n",
    "            if filename.find(\"cat\") == -1:\n",
    "                # dog \n",
    "                labels.append(1)\n",
    "            else:\n",
    "                # cat\n",
    "                labels.append(0)\n",
    "    return images, labels"
   ]
  },
  {
   "cell_type": "code",
   "execution_count": 3,
   "metadata": {},
   "outputs": [],
   "source": [
    "### HELPER FUNCTIONS ###\n",
    "\n",
    "# Sigmoid non-linearity\n",
    "def sigmoid(z):\n",
    "    return 1 / (1 + np.exp(-z))\n",
    "\n",
    "# Initializes weights and biases with zeros\n",
    "def init_with_zeros(dimension):\n",
    "\n",
    "    w = np.zeros(shape = (dimension, 1))\n",
    "    b = 0\n",
    "\n",
    "    return w,b"
   ]
  },
  {
   "cell_type": "code",
   "execution_count": 4,
   "metadata": {},
   "outputs": [],
   "source": [
    "def propogate(w, b, X, Y):\n",
    "\n",
    "    # w - weights\n",
    "    # b - bias\n",
    "    # X - input label (px * px * 3, number of examples)\n",
    "    # Y - output label\n",
    "\n",
    "    m = X.shape[1] # number of examples\n",
    "\n",
    "    A = sigmoid(np.dot(w.T, X) + b) # compute activation\n",
    "    cost = (- 1 / m) * np.sum(Y * np.log(A) + (1 - Y) * (np.log(1 - A)))\n",
    "\n",
    "    dw = (1 / m) * np.dot(X, (A - Y).T)\n",
    "    db = (1 / m) * np.sum(A - Y)\n",
    "\n",
    "    # saving local gradients for backpropagation\n",
    "    grads = {\"dw\" : dw,\n",
    "             \"db\" : db}\n",
    "\n",
    "    return grads, cost"
   ]
  },
  {
   "cell_type": "code",
   "execution_count": 5,
   "metadata": {},
   "outputs": [],
   "source": [
    "# Optimizes w and b by running gradient descent\n",
    "def optimize (w, b, X, Y, number_iterations, learning_rate, print_cost = False):    \n",
    "\n",
    "    costs = []\n",
    "\n",
    "    for i in range(number_iterations):\n",
    "\n",
    "        grads, cost = propogate(w, b, X, Y)\n",
    "\n",
    "        dw = grads[\"dw\"]\n",
    "        db = grads[\"db\"]\n",
    "\n",
    "        # gradient descent\n",
    "        w = w - learning_rate * dw\n",
    "        b = b - learning_rate * db\n",
    "\n",
    "        if i % 100 == 0:\n",
    "            costs.append(cost)\n",
    "        \n",
    "        if print_cost and i % 100 == 0:\n",
    "            print (\"Cost after iteration %i: %f\" % (i, cost))\n",
    "\n",
    "    params = {\"w\" : w,\n",
    "              \"b\" : b}\n",
    "\n",
    "    grads = {\"dw\" : dw,\n",
    "               \"db\" : db}\n",
    "\n",
    "    return params, grads, costs"
   ]
  },
  {
   "cell_type": "code",
   "execution_count": 6,
   "metadata": {},
   "outputs": [],
   "source": [
    "# Predicts whether the label is 0 or 1 based on learned weights and bias\n",
    "def predict(w, b, X):\n",
    "\n",
    "    m = X.shape[1] \n",
    "    w = w.reshape(X.shape[0], 1)\n",
    "\n",
    "    Y_Prediction = np.zeros((1, m))\n",
    "\n",
    "    A = sigmoid(np.dot(w.T, X) + b)\n",
    "\n",
    "    for i in range(A.shape[1]):\n",
    "\n",
    "        Y_Prediction[0, i] = 1 if A[0, i] > 0.5 else 0\n",
    "\n",
    "    return Y_Prediction"
   ]
  },
  {
   "cell_type": "code",
   "execution_count": 7,
   "metadata": {},
   "outputs": [],
   "source": [
    "# Builds the logistic regression model using helper functions    \n",
    "def model(X_train, Y_train, X_test, Y_test, number_iterations = 2000, learning_rate = 0.5, print_cost = False):\n",
    "\n",
    "\n",
    "    # X_train -- training set represented by a numpy array of shape (num_px * num_px * 3, m_train)\n",
    "    # Y_train -- training labels represented by a numpy array (vector) of shape (1, m_train)\n",
    "    # X_test -- test set represented by a numpy array of shape (num_px * num_px * 3, m_test)\n",
    "    # Y_test -- test labels represented by a numpy array (vector) of shape (1, m_test)\n",
    "    # num_iterations -- hyperparameter representing the number of iterations to optimize the parameters\n",
    "    # earning_rate -- hyperparameter representing the learning rate used in the update rule of optimize()\n",
    "    # print_cost -- Set to true to print the cost every 100 iterations\n",
    "    \n",
    "    # return value: d -- dictionary containing information about the model.\n",
    "    \n",
    "    # initialize parameters with zeros\n",
    "    w,b = init_with_zeros(X_train.shape[0])\n",
    "\n",
    "    # gradient descent\n",
    "    parameters, grads, costs = optimize(w, b, X_train, Y_train, number_iterations, learning_rate, print_cost)\n",
    "\n",
    "    # retrieve parameters from \"parameters\" dictionary after training\n",
    "    w = parameters[\"w\"]\n",
    "    b = parameters[\"b\"]\n",
    "\n",
    "    Y_Prediction_Test = predict(w, b, X_test)\n",
    "    Y_Prediction_Train = predict(w, b, X_train)\n",
    "\n",
    "    # print train/test Errors\n",
    "    print(\"Train accuracy: {} %\".format(100 - np.mean(np.abs(Y_Prediction_Train - Y_train)) * 100))\n",
    "    print(\"Test accuracy: {} %\".format(100 - np.mean(np.abs(Y_Prediction_Test - Y_test)) * 100))\n",
    "\n",
    "    \n",
    "    d = {\"costs\": costs,\n",
    "         \"Y_prediction_test\": Y_Prediction_Test, \n",
    "         \"Y_prediction_train\" : Y_Prediction_Train, \n",
    "         \"w\" : w, \n",
    "         \"b\" : b,\n",
    "         \"learning_rate\" : learning_rate,\n",
    "         \"num_iterations\": number_iterations}\n",
    "\n",
    "    return d"
   ]
  },
  {
   "cell_type": "code",
   "execution_count": 8,
   "metadata": {},
   "outputs": [
    {
     "name": "stdout",
     "output_type": "stream",
     "text": [
      "Cost after iteration 0: 0.693147\n",
      "Cost after iteration 100: 0.686262\n",
      "Cost after iteration 200: 0.682418\n",
      "Cost after iteration 300: 0.679644\n",
      "Cost after iteration 400: 0.677470\n",
      "Cost after iteration 500: 0.675690\n",
      "Cost after iteration 600: 0.674188\n",
      "Cost after iteration 700: 0.672893\n",
      "Cost after iteration 800: 0.671756\n",
      "Cost after iteration 900: 0.670745\n",
      "Cost after iteration 1000: 0.669835\n",
      "Cost after iteration 1100: 0.669010\n",
      "Cost after iteration 1200: 0.668257\n",
      "Cost after iteration 1300: 0.667564\n",
      "Cost after iteration 1400: 0.666923\n",
      "Cost after iteration 1500: 0.666328\n",
      "Cost after iteration 1600: 0.665773\n",
      "Cost after iteration 1700: 0.665252\n",
      "Cost after iteration 1800: 0.664763\n",
      "Cost after iteration 1900: 0.664301\n",
      "Train accuracy: 60.32 %\n",
      "Test accuracy: 52.400000000000006 %\n"
     ]
    }
   ],
   "source": [
    "# load train images and labels\n",
    "images_train,labels_train = load_images_and_create_label('/Users/rahulmadhyan/Documents/AI/Neural Networks/Vanilla NN/Data/train', 64)\n",
    "images_train = np.array(images_train)\n",
    "labels_train = np.array(labels_train)\n",
    "\n",
    "# load test images and labels\n",
    "images_test,labels_test = load_images_and_create_label('/Users/rahulmadhyan/Documents/AI/Neural Networks/Vanilla NN/Data/test1', 64)\n",
    "images_test = np.array(images_test)\n",
    "labels_test = np.array(labels_test)\n",
    "\n",
    "# flatten dataset\n",
    "images_train = images_train.reshape(images_train.shape[0], -1).T\n",
    "images_test = images_test.reshape(images_test.shape[0], -1).T\n",
    "\n",
    "#standaradize the dataset\n",
    "images_train = images_train / 255\n",
    "images_test = images_test / 255\n",
    "\n",
    "model(images_train, labels_train, images_test, labels_test, 2000, 0.0005, True)"
   ]
  },
  {
   "cell_type": "code",
   "execution_count": null,
   "metadata": {},
   "outputs": [
    {
     "name": "stdout",
     "output_type": "stream",
     "text": [
      "Learning rate is: 0.0005\n"
     ]
    }
   ],
   "source": [
    "learning_rates = [0.0005, 0.005, 0.05]\n",
    "models = {}\n",
    "for i in learning_rates:\n",
    "    print (\"Learning rate is: \" + str(i))\n",
    "    models[str(i)] = model(images_train, labels_train, images_test, labels_test, number_iterations = 3000, learning_rate = i, print_cost = False)\n",
    "    print ('\\n' + \"-------------------------------------------------------\" + '\\n')"
   ]
  },
  {
   "cell_type": "code",
   "execution_count": 13,
   "metadata": {},
   "outputs": [
    {
     "data": {
      "image/png": "[encoded data removed]",
      "text/plain": [
       "<matplotlib.figure.Figure at 0x112df56a0>"
      ]
     },
     "metadata": {},
     "output_type": "display_data"
    }
   ],
   "source": [
    "for i in learning_rates:\n",
    "    plt.plot(np.squeeze(models[str(i)][\"costs\"]), label= str(models[str(i)][\"learning_rate\"]))\n",
    "\n",
    "plt.ylabel('cost')\n",
    "plt.xlabel('iterations')\n",
    "\n",
    "legend = plt.legend(loc='upper center', shadow=True)\n",
    "frame = legend.get_frame()\n",
    "frame.set_facecolor('0.90')\n",
    "plt.show()"
   ]
  },
  {
   "cell_type": "code",
   "execution_count": null,
   "metadata": {},
   "outputs": [],
   "source": []
  },
  {
   "cell_type": "code",
   "execution_count": null,
   "metadata": {},
   "outputs": [],
   "source": []
  }
 ],
 "metadata": {
  "kernelspec": {
   "display_name": "Python 3",
   "language": "python",
   "name": "python3"
  },
  "language_info": {
   "codemirror_mode": {
    "name": "ipython",
    "version": 3
   },
   "file_extension": ".py",
   "mimetype": "text/x-python",
   "name": "python",
   "nbconvert_exporter": "python",
   "pygments_lexer": "ipython3",
   "version": "3.6.4"
  }
 },
 "nbformat": 4,
 "nbformat_minor": 2
}
